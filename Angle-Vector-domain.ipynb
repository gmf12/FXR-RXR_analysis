{
 "cells": [
  {
   "cell_type": "code",
   "execution_count": 56,
   "id": "cc985c4c",
   "metadata": {},
   "outputs": [
    {
     "name": "stdout",
     "output_type": "stream",
     "text": [
      "<Universe with 908 atoms>\n"
     ]
    }
   ],
   "source": [
    "import MDAnalysis as mda\n",
    "u1 = mda.Universe('540m_ba.pdb','540m_ba.xtc', all_coordinates=True)\n",
    "u1.trajectory\n",
    "print(u1)"
   ]
  },
  {
   "cell_type": "code",
   "execution_count": 57,
   "id": "10f11ad4",
   "metadata": {},
   "outputs": [],
   "source": [
    "domains = {\n",
    "   \n",
    "    'T442' : u1.select_atoms(\"protein and resid 199-201\"),\n",
    "    'M450': u1.select_atoms(\"protein and resid 207-209\"),\n",
    "    'W454': u1.select_atoms(\"protein and resid 211-213\")\n",
    "    \n",
    "}"
   ]
  },
  {
   "cell_type": "code",
   "execution_count": 58,
   "id": "8f260e9e",
   "metadata": {},
   "outputs": [
    {
     "name": "stdout",
     "output_type": "stream",
     "text": [
      "{'T442': array([-0.67825   , -4.54050004, -2.33200001]), 'M450': array([ -0.3495    , -11.22350009, -13.24566666]), 'W454': array([  0.05483333, -12.94874994, -19.48316685])}\n",
      "{'T442': array([-0.68765159, -4.59981339, -2.34685409]), 'M450': array([ -0.32881843, -11.24192725, -13.30596754]), 'W454': array([  0.05641634, -12.96794633, -19.53305382])}\n"
     ]
    }
   ],
   "source": [
    "cg = dict((name, dom.centroid()) for name,dom in domains.items())\n",
    "cm = dict((name, dom.center_of_mass()) for name,dom in domains.items())\n",
    "print(cg)\n",
    "print (cm)"
   ]
  },
  {
   "cell_type": "code",
   "execution_count": 59,
   "id": "38973da9",
   "metadata": {},
   "outputs": [],
   "source": [
    "import numpy as np\n",
    "from numpy.linalg import norm"
   ]
  },
  {
   "cell_type": "code",
   "execution_count": 60,
   "id": "5722e4c4",
   "metadata": {},
   "outputs": [
    {
     "name": "stdout",
     "output_type": "stream",
     "text": [
      "161.31495190230038\n"
     ]
    }
   ],
   "source": [
    "def theta_NMP(u1):\n",
    "    \"\"\"Calculate the vector between residues from H10/H11 bend\"\"\"\n",
    "    C = u1.select_atoms(\"resid 200 and (backbone or name CB)\").center_of_geometry()#T442\n",
    "    B = u1.select_atoms(\"resid 208 and (backbone or name CB)\").center_of_geometry()#M450\n",
    "    A = u1.select_atoms(\"resid 212 and (backbone or name CB)\").center_of_geometry()#W454\n",
    "    BA = A - B\n",
    "    BC = C - B\n",
    "    theta = np.arccos(np.dot(BA, BC)/(norm(BA)*norm(BC)))\n",
    "    return np.rad2deg(theta)\n",
    "\n",
    "print (theta_NMP(u1))"
   ]
  },
  {
   "cell_type": "code",
   "execution_count": null,
   "id": "c3884284",
   "metadata": {},
   "outputs": [],
   "source": []
  }
 ],
 "metadata": {
  "kernelspec": {
   "display_name": "Python 3",
   "language": "python",
   "name": "python3"
  },
  "language_info": {
   "codemirror_mode": {
    "name": "ipython",
    "version": 3
   },
   "file_extension": ".py",
   "mimetype": "text/x-python",
   "name": "python",
   "nbconvert_exporter": "python",
   "pygments_lexer": "ipython3",
   "version": "3.6.11"
  }
 },
 "nbformat": 4,
 "nbformat_minor": 5
}
